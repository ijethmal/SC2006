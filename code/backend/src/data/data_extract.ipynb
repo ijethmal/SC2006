{
 "cells": [
  {
   "cell_type": "markdown",
   "metadata": {},
   "source": [
    "Imports"
   ]
  },
  {
   "cell_type": "code",
   "execution_count": 1,
   "metadata": {},
   "outputs": [],
   "source": [
    "import json\n",
    "import re"
   ]
  },
  {
   "cell_type": "code",
   "execution_count": 2,
   "metadata": {},
   "outputs": [],
   "source": [
    "facilities_code = [\n",
    "    'COMPETITIO',\n",
    "    'WADING_POO',\n",
    "    'BADMINTON_',\n",
    "    'TABLE_TENN',\n",
    "    'NETBALL_CO',\n",
    "    'VOLLEYBALL',\n",
    "    'BASKETBALL',\n",
    "    'ATHLETICS_',\n",
    "    'FOOTBALL_F',\n",
    "    'SOCCER_COU',\n",
    "    'RUGBY_FIEL',\n",
    "    'TENNIS_COU',\n",
    "    'SQUASH_COU',\n",
    "    'GYM'       ,\n",
    "    'HOCKEY_PIT',\n",
    "    'PETANQUE_C',\n",
    "    'GATEBALL_C',\n",
    "    'LAWN_BOWL_',\n",
    "    'PICKLEBALL']"
   ]
  },
  {
   "cell_type": "code",
   "execution_count": 3,
   "metadata": {},
   "outputs": [],
   "source": [
    "all_sports = {\n",
    "    'COMPETITIO': 'Swimming',\n",
    "    'WADING_POO': 'Wading Pool',\n",
    "    'BADMINTON_': 'Badminton',\n",
    "    'TABLE_TENN': 'Table Tennis',\n",
    "    'NETBALL_CO': 'Netball',\n",
    "    'VOLLEYBALL': 'Volleyball',\n",
    "    'BASKETBALL': 'Basketball',\n",
    "    'ATHLETICS_': 'Running Tracks',\n",
    "    'FOOTBALL_F': 'Football',\n",
    "    'SOCCER_COU': 'Futsal',\n",
    "    'RUGBY_FIEL': 'Rugby',\n",
    "    'TENNIS_COU': 'Tennis',\n",
    "    'SQUASH_COU': 'Squash',\n",
    "    'GYM'       : 'Gym',\n",
    "    'HOCKEY_PIT': 'Hockey',\n",
    "    'PETANQUE_C': 'Petanque',\n",
    "    'GATEBALL_C': 'Gateball',\n",
    "    'LAWN_BOWL_': 'Bowling',\n",
    "    'PICKLEBALL': 'Pickle Ball'\n",
    "}"
   ]
  },
  {
   "cell_type": "code",
   "execution_count": 4,
   "metadata": {},
   "outputs": [],
   "source": [
    "with open('sports_data.json', 'r') as f:\n",
    "    data = json.load(f)['features']"
   ]
  },
  {
   "cell_type": "code",
   "execution_count": 5,
   "metadata": {},
   "outputs": [],
   "source": [
    "def calc_coor(coors):\n",
    "    k = len(coors)\n",
    "    lat = 0\n",
    "    lng = 0\n",
    "    for cor in coors:\n",
    "        lat += cor[0]\n",
    "        lng += cor[1]\n",
    "    return [lng/k, lat/k]"
   ]
  },
  {
   "cell_type": "code",
   "execution_count": 6,
   "metadata": {},
   "outputs": [],
   "source": [
    "all_facilities = []\n",
    "for i in range(35):\n",
    "    availableFacilities = []\n",
    "    facility = {}\n",
    "\n",
    "    # get the name and available facilities\n",
    "    desc = data[i]['properties']['Description']\n",
    "    desc_list = re.split(' <th>|</th> |<td>|</td> ', desc)\n",
    "    for j in range(len(desc_list)):\n",
    "        if desc_list[j] in facilities_code:\n",
    "            if len(desc_list[j+2]) > 0:\n",
    "                availableFacilities.append(all_sports[desc_list[j]])\n",
    "        if desc_list[j] == 'SPORTS_CEN':\n",
    "            name = desc_list[j+2]\n",
    "\n",
    "    # get the coordinates\n",
    "    geo = data[i]['geometry']['coordinates']\n",
    "    coordinates = calc_coor(geo[0])\n",
    "    \n",
    "    facility['name'] = name\n",
    "    facility['coordinates'] = coordinates\n",
    "    facility['availableFacilities'] = availableFacilities\n",
    "    all_facilities.append(facility)"
   ]
  },
  {
   "cell_type": "code",
   "execution_count": 7,
   "metadata": {},
   "outputs": [],
   "source": [
    "with open('facilities_data.json', 'w') as f:\n",
    "    json.dump(all_facilities, f)"
   ]
  },
  {
   "cell_type": "code",
   "execution_count": 8,
   "metadata": {},
   "outputs": [
    {
     "name": "stdout",
     "output_type": "stream",
     "text": [
      "['Clementi Stadium', 'Clementi Sports Centre', 'Jurong West Sports Centre', 'Kallang Basin Swimming Complex', 'Kallang Sports Centre', 'Katong Swimming Complex', 'AMK Swimming Complex', 'Bishan Sports Centre', 'Bukit Batok Swimming Complex', 'Farrer Park Field and Tennis Centre', 'Jalan Besar Sports Centre', 'Jurong East Sports Centre', 'Heartbeat@Bedok', 'Hougang Sports Centre', 'Bukit Gombak Sports Centre', 'Bedok Stadium', 'Burghley Squash and Tennis Centre', 'Choa Chu Kang Sports Centre', 'Jurong Stadium', 'Our Tampines Hub - Community Auditorium', 'Pasir Ris Sports Centre', 'Queenstown Sports Centre', 'Sengkang Sports Centre', 'Serangoon Sports Centre', 'Toa Payoh Sports Centre', 'Woodlands Sports Centre', 'St Wilfrid Sports Centre', 'Yio Chu Kang Sports Centre', 'Yishun Sports Centre', 'Yishun Swimming Complex', 'Co Curricular Activities Branch', 'Delta Sports Centre', 'Enabling Village Gym', 'Geylang East Swimming Complex', 'Geylang Field']\n"
     ]
    }
   ],
   "source": [
    "dd = []\n",
    "for fac in all_facilities:\n",
    "    dd.append(fac[\"name\"])\n",
    "print(dd)"
   ]
  }
 ],
 "metadata": {
  "kernelspec": {
   "display_name": "Python 3",
   "language": "python",
   "name": "python3"
  },
  "language_info": {
   "codemirror_mode": {
    "name": "ipython",
    "version": 3
   },
   "file_extension": ".py",
   "mimetype": "text/x-python",
   "name": "python",
   "nbconvert_exporter": "python",
   "pygments_lexer": "ipython3",
   "version": "3.11.10"
  }
 },
 "nbformat": 4,
 "nbformat_minor": 2
}
