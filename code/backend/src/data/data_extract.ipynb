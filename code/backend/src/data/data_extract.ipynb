{
 "cells": [
  {
   "cell_type": "markdown",
   "metadata": {},
   "source": [
    "Imports"
   ]
  },
  {
   "cell_type": "code",
   "execution_count": 58,
   "metadata": {},
   "outputs": [],
   "source": [
    "import json\n",
    "import re"
   ]
  },
  {
   "cell_type": "code",
   "execution_count": 59,
   "metadata": {},
   "outputs": [],
   "source": [
    "facilities_code = [\n",
    "    'COMPETITIO',\n",
    "    'WADING_POO',\n",
    "    'BADMINTON_',\n",
    "    'TABLE_TENN',\n",
    "    'NETBALL_CO',\n",
    "    'VOLLEYBALL',\n",
    "    'BASKETBALL',\n",
    "    'ATHLETICS_',\n",
    "    'FOOTBALL_F',\n",
    "    'SOCCER_COU',\n",
    "    'RUGBY_FIEL',\n",
    "    'TENNIS_COU',\n",
    "    'SQUASH_COU',\n",
    "    'GYM'       ,\n",
    "    'HOCKEY_PIT',\n",
    "    'PETANQUE_C',\n",
    "    'GATEBALL_C',\n",
    "    'LAWN_BOWL_',\n",
    "    'PICKLEBALL']"
   ]
  },
  {
   "cell_type": "code",
   "execution_count": 65,
   "metadata": {},
   "outputs": [],
   "source": [
    "all_sports = {\n",
    "    'COMPETITIO': 'Swimming',\n",
    "    'WADING_POO': 'Wading Pool',\n",
    "    'BADMINTON_': 'Badminton',\n",
    "    'TABLE_TENN': 'Table Tennis',\n",
    "    'NETBALL_CO': 'Netball',\n",
    "    'VOLLEYBALL': 'Volleyball',\n",
    "    'BASKETBALL': 'Basketball',\n",
    "    'ATHLETICS_': 'Running Tracks',\n",
    "    'FOOTBALL_F': 'Football',\n",
    "    'SOCCER_COU': 'Futsal',\n",
    "    'RUGBY_FIEL': 'Rugby',\n",
    "    'TENNIS_COU': 'Tennis',\n",
    "    'SQUASH_COU': 'Squash',\n",
    "    'GYM'       : 'Gym',\n",
    "    'HOCKEY_PIT': 'Hockey',\n",
    "    'PETANQUE_C': 'Petanque',\n",
    "    'GATEBALL_C': 'Gateball',\n",
    "    'LAWN_BOWL_': 'Bowling',\n",
    "    'PICKLEBALL': 'Pickle Ball'\n",
    "}"
   ]
  },
  {
   "cell_type": "code",
   "execution_count": 61,
   "metadata": {},
   "outputs": [],
   "source": [
    "with open('sports_data.json', 'r') as f:\n",
    "    data = json.load(f)['features']"
   ]
  },
  {
   "cell_type": "code",
   "execution_count": 62,
   "metadata": {},
   "outputs": [],
   "source": [
    "def calc_coor(coors):\n",
    "    k = len(coors)\n",
    "    lat = 0\n",
    "    lng = 0\n",
    "    for cor in coors:\n",
    "        lat += cor[0]\n",
    "        lng += cor[1]\n",
    "    return [lng/k, lat/k]"
   ]
  },
  {
   "cell_type": "code",
   "execution_count": 66,
   "metadata": {},
   "outputs": [],
   "source": [
    "all_facilities = []\n",
    "for i in range(35):\n",
    "    availableFacilities = []\n",
    "    facility = {}\n",
    "\n",
    "    # get the name and available facilities\n",
    "    desc = data[i]['properties']['Description']\n",
    "    desc_list = re.split(' <th>|</th> |<td>|</td> ', desc)\n",
    "    for j in range(len(desc_list)):\n",
    "        if desc_list[j] in facilities_code:\n",
    "            if len(desc_list[j+2]) > 0:\n",
    "                availableFacilities.append(all_sports[desc_list[j]])\n",
    "        if desc_list[j] == 'SPORTS_CEN':\n",
    "            name = desc_list[j+2]\n",
    "\n",
    "    # get the coordinates\n",
    "    geo = data[i]['geometry']['coordinates']\n",
    "    coordinates = calc_coor(geo[0])\n",
    "    \n",
    "    facility['name'] = name\n",
    "    facility['coordinates'] = coordinates\n",
    "    facility['availableFacilities'] = availableFacilities\n",
    "    all_facilities.append(facility)"
   ]
  },
  {
   "cell_type": "code",
   "execution_count": 71,
   "metadata": {},
   "outputs": [],
   "source": [
    "with open('facilities_data.json', 'w') as f:\n",
    "    json.dump(all_facilities, f)"
   ]
  }
 ],
 "metadata": {
  "kernelspec": {
   "display_name": "Python 3",
   "language": "python",
   "name": "python3"
  },
  "language_info": {
   "codemirror_mode": {
    "name": "ipython",
    "version": 3
   },
   "file_extension": ".py",
   "mimetype": "text/x-python",
   "name": "python",
   "nbconvert_exporter": "python",
   "pygments_lexer": "ipython3",
   "version": "3.11.10"
  }
 },
 "nbformat": 4,
 "nbformat_minor": 2
}
